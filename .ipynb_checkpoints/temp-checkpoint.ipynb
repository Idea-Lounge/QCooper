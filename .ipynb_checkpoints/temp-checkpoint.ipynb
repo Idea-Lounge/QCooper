{
 "cells": [
  {
   "cell_type": "code",
   "execution_count": 233,
   "metadata": {},
   "outputs": [],
   "source": [
    "import numpy as np;\n",
    "import math;\n",
    "import random;"
   ]
  },
  {
   "cell_type": "code",
   "execution_count": 234,
   "metadata": {},
   "outputs": [],
   "source": [
    "class Qubit():\n",
    "    def __init__(self, initialState = np.array([1,0], dtype=complex)):\n",
    "        if (self.checkState(initialState)):\n",
    "            self.initialState = initialState;\n",
    "            self.currentState = initialState;\n",
    "        else:\n",
    "            raise Exception(\"Does not meet normalization constraint.\");\n",
    "    \n",
    "    def getInitialState(self):\n",
    "        return self.initialState;\n",
    "    \n",
    "    def checkState(self, state):\n",
    "        if (np.linalg.norm(state) == 1):\n",
    "            return True;\n",
    "        else:\n",
    "            return False;\n",
    "        \n",
    "    def getCurrentState(self):\n",
    "        return self.currentState;\n",
    "    \n",
    "    def setCurrentState(self, state):\n",
    "        self.currentState = state;\n",
    "        \n",
    "    def measure(self, iterations = 100):\n",
    "        prob0 = abs(self.currentState[0] ** 2);\n",
    "        prob1 = abs(self.currentState[1] ** 2);\n",
    "        print(prob1);\n",
    "        distribution = [0, 0];\n",
    "        for i in range(iterations):\n",
    "            if (random.uniform(0, 1) > prob1):\n",
    "                distribution[0] += 1;\n",
    "            else:\n",
    "                distribution[1] += 1;\n",
    "                \n",
    "        print(distribution);\n",
    "        \n",
    "class Gate():\n",
    "    def __init__(self, transformation = np.mat('0 1; 1 0', dtype = complex)):\n",
    "        print(\"Creating a new gate\");\n",
    "        self.transformation = transformation;\n",
    "        \n",
    "    def processQubit(self, qubit):\n",
    "        print((qubit.getCurrentState()));\n",
    "        qubit.setCurrentState(np.asarray(self.transformation.dot(qubit.getCurrentState()))[0]);\n",
    "        print(qubit.getCurrentState());\n",
    "        \n",
    "class HadamardGate(Gate):\n",
    "    def __init__(self):\n",
    "        Gate.__init__(self, 1/math.sqrt(2)*np.mat('1 1; 1 -1', dtype = complex));\n",
    "        print(\"Creating a hadamard gate\");\n",
    "        \n",
    "class PauliXGate(Gate):\n",
    "    def __init__(self):\n",
    "        Gate.__init__(self, np.mat('0 1; 1 0', dtype = complex));\n",
    "        print(\"Creating a pauli-x gate\");\n",
    "        \n",
    "class PauliYGate(Gate):\n",
    "    def __init__(self):\n",
    "        Gate.__init__(self, np.mat('0 -1j; 1j 0', dtype = complex));\n",
    "        print(\"Creating a hadamard gate\");\n",
    "        \n",
    "class PauliZGate(Gate):\n",
    "    def __init__(self):\n",
    "        Gate.__init__(self, np.mat('1 0; 0 -1', dtype = complex));\n",
    "        print(\"Creating a hadamard gate\");"
   ]
  },
  {
   "cell_type": "code",
   "execution_count": 235,
   "metadata": {},
   "outputs": [
    {
     "name": "stdout",
     "output_type": "stream",
     "text": [
      "Creating a new gate\n",
      "Creating a hadamard gate\n",
      "[0.+0.j 1.+0.j]\n",
      "[ 0.+0.j -1.+0.j]\n",
      "1.0\n",
      "[0, 5000]\n"
     ]
    }
   ],
   "source": [
    "qubit = Qubit(np.array([0,1], dtype=complex));\n",
    "myGate = PauliZGate();\n",
    "myGate.processQubit(qubit);\n",
    "\n",
    "qubit.measure(5000);"
   ]
  },
  {
   "cell_type": "code",
   "execution_count": null,
   "metadata": {},
   "outputs": [],
   "source": []
  },
  {
   "cell_type": "code",
   "execution_count": null,
   "metadata": {},
   "outputs": [],
   "source": []
  }
 ],
 "metadata": {
  "kernelspec": {
   "display_name": "Python 2",
   "language": "python",
   "name": "python2"
  },
  "language_info": {
   "codemirror_mode": {
    "name": "ipython",
    "version": 2
   },
   "file_extension": ".py",
   "mimetype": "text/x-python",
   "name": "python",
   "nbconvert_exporter": "python",
   "pygments_lexer": "ipython2",
   "version": "2.7.15"
  }
 },
 "nbformat": 4,
 "nbformat_minor": 2
}
