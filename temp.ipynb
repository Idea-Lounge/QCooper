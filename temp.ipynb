{
 "cells": [
  {
   "cell_type": "code",
   "execution_count": 30,
   "metadata": {},
   "outputs": [],
   "source": [
    "import numpy as np;\n",
    "import math;       "
   ]
  },
  {
   "cell_type": "code",
   "execution_count": 64,
   "metadata": {},
   "outputs": [],
   "source": [
    "class Qubit():\n",
    "    def __init__(self, initialState = np.array([1,0], dtype=complex)):\n",
    "        if (self.checkState(initialState)):\n",
    "            self.initialState = initialState;\n",
    "            self.currentState = initialState;\n",
    "        else:\n",
    "            raise Exception(\"Does not meet normalization constraint.\");\n",
    "    \n",
    "    def getInitialState(self):\n",
    "        return self.initialState;\n",
    "    \n",
    "    def checkState(self, state):\n",
    "        if (np.linalg.norm(state) == 1):\n",
    "            return True;\n",
    "        else:\n",
    "            return False;\n",
    "        s\n",
    "    def getCurrentState(self):\n",
    "        return self.currentState;    \n",
    "    \n",
    "    def setCurrentState(self, state):\n",
    "        self.currentState = state;\n",
    "        \n",
    "class Gate():\n",
    "    def __init__(self, transformation = np.mat('1 0; 0 1', dtype = complex)):\n",
    "        print(\"Creating a new gate\");\n",
    "        self.transformation = transformation;\n",
    "        \n",
    "    def processQubit(self, qubit):\n",
    "        print(qubit.getInitialState());\n",
    "        qubit.setCurrentState(np.matmul(self.transformation, qubit.getCurrentState()));\n",
    "        # applies some linear algebra\n",
    "        # returns some result.\n",
    "        print(qubit.getCurrentState());\n",
    "        \n",
    "class PauliXGate(Gate):\n",
    "    def __init__(self):\n",
    "        Gate.__init__(self, np.mat('0 1; 1 0', dtype = complex));\n",
    "        print(\"Creating a pauli-x gate\");\n",
    "        \n",
    "class HadamardGate(Gate):\n",
    "    def __init__(self):\n",
    "        Gate.__init__(self, 1/math.sqrt(2)*np.mat('1 1; 1 -1', dtype = complex));\n",
    "        print(\"Creating a hadamard gate\");\n",
    "        "
   ]
  },
  {
   "cell_type": "code",
   "execution_count": 66,
   "metadata": {},
   "outputs": [
    {
     "ename": "Exception",
     "evalue": "Does not meet normalization constraint.",
     "output_type": "error",
     "traceback": [
      "\u001b[0;31m---------------------------------------------------------------------------\u001b[0m",
      "\u001b[0;31mException\u001b[0m                                 Traceback (most recent call last)",
      "\u001b[0;32m<ipython-input-66-63f19e171469>\u001b[0m in \u001b[0;36m<module>\u001b[0;34m()\u001b[0m\n\u001b[0;32m----> 1\u001b[0;31m \u001b[0mqubit\u001b[0m \u001b[0;34m=\u001b[0m \u001b[0mQubit\u001b[0m\u001b[0;34m(\u001b[0m\u001b[0mnp\u001b[0m\u001b[0;34m.\u001b[0m\u001b[0marray\u001b[0m\u001b[0;34m(\u001b[0m\u001b[0;34m[\u001b[0m\u001b[0;36m1\u001b[0m\u001b[0;34m,\u001b[0m\u001b[0;36m1\u001b[0m\u001b[0;34m]\u001b[0m\u001b[0;34m,\u001b[0m \u001b[0mdtype\u001b[0m\u001b[0;34m=\u001b[0m\u001b[0mcomplex\u001b[0m\u001b[0;34m)\u001b[0m\u001b[0;34m)\u001b[0m\u001b[0;34m;\u001b[0m\u001b[0;34m\u001b[0m\u001b[0m\n\u001b[0m\u001b[1;32m      2\u001b[0m \u001b[0mmyGate\u001b[0m \u001b[0;34m=\u001b[0m \u001b[0mHadamardGate\u001b[0m\u001b[0;34m(\u001b[0m\u001b[0;34m)\u001b[0m\u001b[0;34m;\u001b[0m\u001b[0;34m\u001b[0m\u001b[0m\n\u001b[1;32m      3\u001b[0m \u001b[0mmyGate\u001b[0m\u001b[0;34m.\u001b[0m\u001b[0mprocessQubit\u001b[0m\u001b[0;34m(\u001b[0m\u001b[0mqubit\u001b[0m\u001b[0;34m)\u001b[0m\u001b[0;34m;\u001b[0m\u001b[0;34m\u001b[0m\u001b[0m\n",
      "\u001b[0;32m<ipython-input-64-d9aac5889bed>\u001b[0m in \u001b[0;36m__init__\u001b[0;34m(self, initialState)\u001b[0m\n\u001b[1;32m      5\u001b[0m             \u001b[0mself\u001b[0m\u001b[0;34m.\u001b[0m\u001b[0mcurrentState\u001b[0m \u001b[0;34m=\u001b[0m \u001b[0minitialState\u001b[0m\u001b[0;34m;\u001b[0m\u001b[0;34m\u001b[0m\u001b[0m\n\u001b[1;32m      6\u001b[0m         \u001b[0;32melse\u001b[0m\u001b[0;34m:\u001b[0m\u001b[0;34m\u001b[0m\u001b[0m\n\u001b[0;32m----> 7\u001b[0;31m             \u001b[0;32mraise\u001b[0m \u001b[0mException\u001b[0m\u001b[0;34m(\u001b[0m\u001b[0;34m\"Does not meet normalization constraint.\"\u001b[0m\u001b[0;34m)\u001b[0m\u001b[0;34m;\u001b[0m\u001b[0;34m\u001b[0m\u001b[0m\n\u001b[0m\u001b[1;32m      8\u001b[0m \u001b[0;34m\u001b[0m\u001b[0m\n\u001b[1;32m      9\u001b[0m     \u001b[0;32mdef\u001b[0m \u001b[0mgetInitialState\u001b[0m\u001b[0;34m(\u001b[0m\u001b[0mself\u001b[0m\u001b[0;34m)\u001b[0m\u001b[0;34m:\u001b[0m\u001b[0;34m\u001b[0m\u001b[0m\n",
      "\u001b[0;31mException\u001b[0m: Does not meet normalization constraint."
     ]
    }
   ],
   "source": [
    "qubit = Qubit(np.array([1,1], dtype=complex));\n",
    "myGate = HadamardGate();\n",
    "myGate.processQubit(qubit);"
   ]
  },
  {
   "cell_type": "code",
   "execution_count": null,
   "metadata": {},
   "outputs": [],
   "source": []
  },
  {
   "cell_type": "code",
   "execution_count": null,
   "metadata": {},
   "outputs": [],
   "source": []
  }
 ],
 "metadata": {
  "kernelspec": {
   "display_name": "Python 2",
   "language": "python",
   "name": "python2"
  },
  "language_info": {
   "codemirror_mode": {
    "name": "ipython",
    "version": 2
   },
   "file_extension": ".py",
   "mimetype": "text/x-python",
   "name": "python",
   "nbconvert_exporter": "python",
   "pygments_lexer": "ipython2",
   "version": "2.7.15"
  }
 },
 "nbformat": 4,
 "nbformat_minor": 2
}
