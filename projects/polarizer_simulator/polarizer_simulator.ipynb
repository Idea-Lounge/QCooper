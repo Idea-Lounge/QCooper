{
 "cells": [
  {
   "cell_type": "code",
   "execution_count": 1,
   "metadata": {},
   "outputs": [],
   "source": [
    "import qiskit as qs\n",
    "import math\n",
    "import pandas as pd\n",
    "import matplotlib.pyplot as plt"
   ]
  },
  {
   "cell_type": "code",
   "execution_count": 2,
   "metadata": {},
   "outputs": [],
   "source": [
    "qasm_simulator = qs.Aer.get_backend(\"qasm_simulator\")"
   ]
  },
  {
   "cell_type": "code",
   "execution_count": null,
   "metadata": {},
   "outputs": [],
   "source": [
    "output_file_path = \"output.csv\""
   ]
  },
  {
   "cell_type": "code",
   "execution_count": 3,
   "metadata": {},
   "outputs": [],
   "source": [
    "def get_light_source_circuit(initial_state = [0. + 1.j/math.sqrt(2), 1/math.sqrt(2) + 0.j]):\n",
    "    light_source_circuit = qs.QuantumCircuit(1, name=\"light_source\")\n",
    "    light_source_circuit.initialize(initial_state, 0)\n",
    "    # print(light_source_circuit.draw())\n",
    "    return light_source_circuit.to_instruction()"
   ]
  },
  {
   "cell_type": "code",
   "execution_count": 4,
   "metadata": {},
   "outputs": [],
   "source": [
    "def get_x_polarizer_circuit():\n",
    "    x_polarizer_circuit = qs.QuantumCircuit(2, 1, name=\"x_pol\")\n",
    "    x_polarizer_circuit.measure(1, 0)\n",
    "    x_polarizer_circuit.cx(1, 0) \n",
    "    # print(x_polarizer_circuit.draw())\n",
    "    return x_polarizer_circuit.to_instruction()"
   ]
  },
  {
   "cell_type": "code",
   "execution_count": 5,
   "metadata": {},
   "outputs": [],
   "source": [
    "def get_alpha_polarizer_circuit(alpha = math.pi/4):\n",
    "    alpha_polarizer_circuit = qs.QuantumCircuit(3, 1, name=\"alpha_pol\")\n",
    "    alpha_polarizer_circuit.ch(0, 1)\n",
    "    alpha_polarizer_circuit.crz(alpha*2, 0, 1)\n",
    "    alpha_polarizer_circuit.ch(0, 1)\n",
    "\n",
    "    alpha_polarizer_circuit.measure(1, 0)\n",
    "    alpha_polarizer_circuit.cx(1, 0)\n",
    "\n",
    "    alpha_polarizer_circuit.ch(0, 2)\n",
    "    alpha_polarizer_circuit.crz(alpha*2, 0, 2)\n",
    "    alpha_polarizer_circuit.ch(0, 2)\n",
    "\n",
    "    # print(alpha_polarizer_circuit.draw())\n",
    "    return alpha_polarizer_circuit.to_instruction()\n"
   ]
  },
  {
   "cell_type": "code",
   "execution_count": 6,
   "metadata": {},
   "outputs": [],
   "source": [
    "def get_y_polarizer_circuit():\n",
    "    y_polarizer_circuit = qs.QuantumCircuit(2, 1, name=\"y_pol\")\n",
    "    y_polarizer_circuit.cx(0, 1)\n",
    "    y_polarizer_circuit.measure(1, 0)\n",
    "    y_polarizer_circuit.cx(1, 0)\n",
    "    # print(y_polarizer_circuit.draw())\n",
    "    return y_polarizer_circuit.to_instruction()"
   ]
  },
  {
   "cell_type": "code",
   "execution_count": 7,
   "metadata": {},
   "outputs": [],
   "source": [
    "def get_final_measurement_circuit():\n",
    "    final_measurement_circuit = qs.QuantumCircuit(2, 1, name=\"final_meas\")\n",
    "    final_measurement_circuit.cx(0, 1)\n",
    "    final_measurement_circuit.measure(1, 0)\n",
    "    # print(final_measurement_circuit.draw())\n",
    "    return final_measurement_circuit.to_instruction()"
   ]
  },
  {
   "cell_type": "code",
   "execution_count": 12,
   "metadata": {},
   "outputs": [
    {
     "output_type": "execute_result",
     "data": {
      "text/plain": [
       "<qiskit.circuit.instructionset.InstructionSet at 0x1208c7f10>"
      ]
     },
     "metadata": {},
     "execution_count": 12
    }
   ],
   "source": [
    "polarizer_simulator_circuit = qs.QuantumCircuit(5, 4)\n",
    "polarizer_simulator_circuit.append(get_light_source_circuit(), [1])\n",
    "polarizer_simulator_circuit.append(get_x_polarizer_circuit(), [0, 1], [0])\n",
    "polarizer_simulator_circuit.append(get_alpha_polarizer_circuit(alpha = math.pi/3), [0, 2, 3], [1])\n",
    "polarizer_simulator_circuit.append(get_y_polarizer_circuit(), [0, 3], [2])\n",
    "polarizer_simulator_circuit.append(get_final_measurement_circuit(), [0, 4], [3])\n"
   ]
  },
  {
   "cell_type": "code",
   "execution_count": 13,
   "metadata": {},
   "outputs": [
    {
     "output_type": "execute_result",
     "data": {
      "text/plain": [
       "                     ┌────────┐┌────────────┐┌────────┐┌─────────────┐\n",
       "q_0: ────────────────┤0       ├┤0           ├┤0       ├┤0            ├\n",
       "     ┌──────────────┐│        ││            ││        ││             │\n",
       "q_1: ┤ light_source ├┤1       ├┤            ├┤        ├┤             ├\n",
       "     └──────────────┘│        ││            ││        ││             │\n",
       "q_2: ────────────────┤        ├┤1           ├┤        ├┤             ├\n",
       "                     │  x_pol ││            ││        ││             │\n",
       "q_3: ────────────────┤        ├┤2 alpha_pol ├┤1       ├┤             ├\n",
       "                     │        ││            ││  y_pol ││             │\n",
       "q_4: ────────────────┤        ├┤            ├┤        ├┤1 final_meas ├\n",
       "                     │        ││            ││        ││             │\n",
       "c_0: ════════════════╡0       ╞╡            ╞╡        ╞╡             ╞\n",
       "                     └────────┘│            ││        ││             │\n",
       "c_1: ══════════════════════════╡0           ╞╡        ╞╡             ╞\n",
       "                               └────────────┘│        ││             │\n",
       "c_2: ════════════════════════════════════════╡0       ╞╡             ╞\n",
       "                                             └────────┘│             │\n",
       "c_3: ══════════════════════════════════════════════════╡0            ╞\n",
       "                                                       └─────────────┘"
      ],
      "text/html": "<pre style=\"word-wrap: normal;white-space: pre;background: #fff0;line-height: 1.1;font-family: &quot;Courier New&quot;,Courier,monospace\">                     ┌────────┐┌────────────┐┌────────┐┌─────────────┐\nq_0: ────────────────┤0       ├┤0           ├┤0       ├┤0            ├\n     ┌──────────────┐│        ││            ││        ││             │\nq_1: ┤ light_source ├┤1       ├┤            ├┤        ├┤             ├\n     └──────────────┘│        ││            ││        ││             │\nq_2: ────────────────┤        ├┤1           ├┤        ├┤             ├\n                     │  x_pol ││            ││        ││             │\nq_3: ────────────────┤        ├┤2 alpha_pol ├┤1       ├┤             ├\n                     │        ││            ││  y_pol ││             │\nq_4: ────────────────┤        ├┤            ├┤        ├┤1 final_meas ├\n                     │        ││            ││        ││             │\nc_0: ════════════════╡0       ╞╡            ╞╡        ╞╡             ╞\n                     └────────┘│            ││        ││             │\nc_1: ══════════════════════════╡0           ╞╡        ╞╡             ╞\n                               └────────────┘│        ││             │\nc_2: ════════════════════════════════════════╡0       ╞╡             ╞\n                                             └────────┘│             │\nc_3: ══════════════════════════════════════════════════╡0            ╞\n                                                       └─────────────┘</pre>"
     },
     "metadata": {},
     "execution_count": 13
    }
   ],
   "source": [
    "polarizer_simulator_circuit.draw()"
   ]
  },
  {
   "cell_type": "code",
   "execution_count": 14,
   "metadata": {},
   "outputs": [],
   "source": [
    "result_1 = qs.execute(polarizer_simulator_circuit, qasm_simulator, shots=10000).result()"
   ]
  },
  {
   "cell_type": "code",
   "execution_count": 15,
   "metadata": {},
   "outputs": [
    {
     "output_type": "execute_result",
     "data": {
      "text/plain": [
       "941"
      ]
     },
     "metadata": {},
     "execution_count": 15
    }
   ],
   "source": [
    "result_1.get_counts()[\"1001\"]"
   ]
  },
  {
   "cell_type": "code",
   "execution_count": 16,
   "metadata": {},
   "outputs": [],
   "source": [
    "results = []\n",
    "for i in range(1, 181):\n",
    "    # print(i)\n",
    "    polarizer_simulator_circuit = qs.QuantumCircuit(5, 4)\n",
    "    polarizer_simulator_circuit.append(get_light_source_circuit(), [1])\n",
    "    polarizer_simulator_circuit.append(get_x_polarizer_circuit(), [0, 1], [0])\n",
    "\n",
    "    polarizer_simulator_circuit.append(get_alpha_polarizer_circuit(alpha = i * math.pi / 180), [0, 2, 3], [1])\n",
    "    polarizer_simulator_circuit.append(get_y_polarizer_circuit(), [0, 3], [2])\n",
    "    polarizer_simulator_circuit.append(get_final_measurement_circuit(), [0, 4], [3])\n",
    "    result_1 = qs.execute(polarizer_simulator_circuit, qasm_simulator, shots=10000).result()\n",
    "    if \"1001\" in result_1.get_counts():\n",
    "        results.append({\n",
    "            \"alpha\": i,\n",
    "            \"count\": result_1.get_counts()[\"1001\"]\n",
    "        })\n",
    "    else:\n",
    "        results.append({\n",
    "            \"alpha\": i,\n",
    "            \"count\": 0\n",
    "        })\n"
   ]
  },
  {
   "cell_type": "code",
   "execution_count": 97,
   "metadata": {},
   "outputs": [],
   "source": [
    "dataframe = pd.DataFrame(results)"
   ]
  },
  {
   "cell_type": "code",
   "execution_count": 110,
   "metadata": {},
   "outputs": [
    {
     "output_type": "execute_result",
     "data": {
      "text/plain": [
       "<matplotlib.collections.PathCollection at 0x124d56220>"
      ]
     },
     "metadata": {},
     "execution_count": 110
    },
    {
     "output_type": "display_data",
     "data": {
      "text/plain": "<Figure size 432x288 with 1 Axes>",
      "image/svg+xml": "<?xml version=\"1.0\" encoding=\"utf-8\" standalone=\"no\"?>\n<!DOCTYPE svg PUBLIC \"-//W3C//DTD SVG 1.1//EN\"\n  \"http://www.w3.org/Graphics/SVG/1.1/DTD/svg11.dtd\">\n<!-- Created with matplotlib (https://matplotlib.org/) -->\n<svg height=\"248.518125pt\" version=\"1.1\" viewBox=\"0 0 389.35419 248.518125\" width=\"389.35419pt\" xmlns=\"http://www.w3.org/2000/svg\" xmlns:xlink=\"http://www.w3.org/1999/xlink\">\n <metadata>\n  <rdf:RDF xmlns:cc=\"http://creativecommons.org/ns#\" xmlns:dc=\"http://purl.org/dc/elements/1.1/\" xmlns:rdf=\"http://www.w3.org/1999/02/22-rdf-syntax-ns#\">\n   <cc:Work>\n    <dc:type rdf:resource=\"http://purl.org/dc/dcmitype/StillImage\"/>\n    <dc:date>2020-11-12T01:35:35.677621</dc:date>\n    <dc:format>image/svg+xml</dc:format>\n    <dc:creator>\n     <cc:Agent>\n      <dc:title>Matplotlib v3.3.1, https://matplotlib.org/</dc:title>\n     </cc:Agent>\n    </dc:creator>\n   </cc:Work>\n  </rdf:RDF>\n </metadata>\n <defs>\n  <style type=\"text/css\">*{stroke-linecap:butt;stroke-linejoin:round;}</style>\n </defs>\n <g id=\"figure_1\">\n  <g id=\"patch_1\">\n   <path d=\"M -0 248.518125 \nL 389.35419 248.518125 \nL 389.35419 0 \nL -0 0 \nz\n\" style=\"fill:none;\"/>\n  </g>\n  <g id=\"axes_1\">\n   <g id=\"patch_2\">\n    <path d=\"M 39.65 224.64 \nL 374.45 224.64 \nL 374.45 7.2 \nL 39.65 7.2 \nz\n\" style=\"fill:#ffffff;\"/>\n   </g>\n   <g id=\"PathCollection_1\">\n    <defs>\n     <path d=\"M 0 3 \nC 0.795609 3 1.55874 2.683901 2.12132 2.12132 \nC 2.683901 1.55874 3 0.795609 3 0 \nC 3 -0.795609 2.683901 -1.55874 2.12132 -2.12132 \nC 1.55874 -2.683901 0.795609 -3 0 -3 \nC -0.795609 -3 -1.55874 -2.683901 -2.12132 -2.12132 \nC -2.683901 -1.55874 -3 -0.795609 -3 0 \nC -3 0.795609 -2.683901 1.55874 -2.12132 2.12132 \nC -1.55874 2.683901 -0.795609 3 0 3 \nz\n\" id=\"mf8a1bc805a\" style=\"stroke:#1f77b4;\"/>\n    </defs>\n    <g clip-path=\"url(#p5644cc77b6)\">\n     <use style=\"fill:#1f77b4;stroke:#1f77b4;\" x=\"54.868182\" xlink:href=\"#mf8a1bc805a\" y=\"22.906554\"/>\n     <use style=\"fill:#1f77b4;stroke:#1f77b4;\" x=\"58.212837\" xlink:href=\"#mf8a1bc805a\" y=\"19.995095\"/>\n     <use style=\"fill:#1f77b4;stroke:#1f77b4;\" x=\"61.557493\" xlink:href=\"#mf8a1bc805a\" y=\"23.519493\"/>\n     <use style=\"fill:#1f77b4;stroke:#1f77b4;\" x=\"64.902148\" xlink:href=\"#mf8a1bc805a\" y=\"24.74537\"/>\n     <use style=\"fill:#1f77b4;stroke:#1f77b4;\" x=\"68.246803\" xlink:href=\"#mf8a1bc805a\" y=\"44.512643\"/>\n     <use style=\"fill:#1f77b4;stroke:#1f77b4;\" x=\"71.591459\" xlink:href=\"#mf8a1bc805a\" y=\"28.269767\"/>\n     <use style=\"fill:#1f77b4;stroke:#1f77b4;\" x=\"74.936114\" xlink:href=\"#mf8a1bc805a\" y=\"34.399154\"/>\n     <use style=\"fill:#1f77b4;stroke:#1f77b4;\" x=\"78.280769\" xlink:href=\"#mf8a1bc805a\" y=\"41.601184\"/>\n     <use style=\"fill:#1f77b4;stroke:#1f77b4;\" x=\"81.625425\" xlink:href=\"#mf8a1bc805a\" y=\"38.076786\"/>\n     <use style=\"fill:#1f77b4;stroke:#1f77b4;\" x=\"84.97008\" xlink:href=\"#mf8a1bc805a\" y=\"42.673827\"/>\n     <use style=\"fill:#1f77b4;stroke:#1f77b4;\" x=\"88.314735\" xlink:href=\"#mf8a1bc805a\" y=\"56.311712\"/>\n     <use style=\"fill:#1f77b4;stroke:#1f77b4;\" x=\"91.659391\" xlink:href=\"#mf8a1bc805a\" y=\"56.311712\"/>\n     <use style=\"fill:#1f77b4;stroke:#1f77b4;\" x=\"95.004046\" xlink:href=\"#mf8a1bc805a\" y=\"57.231121\"/>\n     <use style=\"fill:#1f77b4;stroke:#1f77b4;\" x=\"98.348701\" xlink:href=\"#mf8a1bc805a\" y=\"64.43315\"/>\n     <use style=\"fill:#1f77b4;stroke:#1f77b4;\" x=\"101.693357\" xlink:href=\"#mf8a1bc805a\" y=\"70.715772\"/>\n     <use style=\"fill:#1f77b4;stroke:#1f77b4;\" x=\"105.038012\" xlink:href=\"#mf8a1bc805a\" y=\"70.256068\"/>\n     <use style=\"fill:#1f77b4;stroke:#1f77b4;\" x=\"108.382667\" xlink:href=\"#mf8a1bc805a\" y=\"70.562537\"/>\n     <use style=\"fill:#1f77b4;stroke:#1f77b4;\" x=\"111.727323\" xlink:href=\"#mf8a1bc805a\" y=\"87.72482\"/>\n     <use style=\"fill:#1f77b4;stroke:#1f77b4;\" x=\"115.071978\" xlink:href=\"#mf8a1bc805a\" y=\"79.450148\"/>\n     <use style=\"fill:#1f77b4;stroke:#1f77b4;\" x=\"118.416633\" xlink:href=\"#mf8a1bc805a\" y=\"99.217421\"/>\n     <use style=\"fill:#1f77b4;stroke:#1f77b4;\" x=\"121.761289\" xlink:href=\"#mf8a1bc805a\" y=\"107.185624\"/>\n     <use style=\"fill:#1f77b4;stroke:#1f77b4;\" x=\"125.105944\" xlink:href=\"#mf8a1bc805a\" y=\"110.097082\"/>\n     <use style=\"fill:#1f77b4;stroke:#1f77b4;\" x=\"128.450599\" xlink:href=\"#mf8a1bc805a\" y=\"114.694123\"/>\n     <use style=\"fill:#1f77b4;stroke:#1f77b4;\" x=\"131.795255\" xlink:href=\"#mf8a1bc805a\" y=\"127.872304\"/>\n     <use style=\"fill:#1f77b4;stroke:#1f77b4;\" x=\"135.13991\" xlink:href=\"#mf8a1bc805a\" y=\"122.662326\"/>\n     <use style=\"fill:#1f77b4;stroke:#1f77b4;\" x=\"138.484565\" xlink:href=\"#mf8a1bc805a\" y=\"133.388753\"/>\n     <use style=\"fill:#1f77b4;stroke:#1f77b4;\" x=\"141.829221\" xlink:href=\"#mf8a1bc805a\" y=\"139.977844\"/>\n     <use style=\"fill:#1f77b4;stroke:#1f77b4;\" x=\"145.173876\" xlink:href=\"#mf8a1bc805a\" y=\"149.018689\"/>\n     <use style=\"fill:#1f77b4;stroke:#1f77b4;\" x=\"148.518531\" xlink:href=\"#mf8a1bc805a\" y=\"159.438647\"/>\n     <use style=\"fill:#1f77b4;stroke:#1f77b4;\" x=\"151.863187\" xlink:href=\"#mf8a1bc805a\" y=\"160.664524\"/>\n     <use style=\"fill:#1f77b4;stroke:#1f77b4;\" x=\"155.207842\" xlink:href=\"#mf8a1bc805a\" y=\"168.019789\"/>\n     <use style=\"fill:#1f77b4;stroke:#1f77b4;\" x=\"158.552498\" xlink:href=\"#mf8a1bc805a\" y=\"171.084482\"/>\n     <use style=\"fill:#1f77b4;stroke:#1f77b4;\" x=\"161.897153\" xlink:href=\"#mf8a1bc805a\" y=\"181.19797\"/>\n     <use style=\"fill:#1f77b4;stroke:#1f77b4;\" x=\"165.241808\" xlink:href=\"#mf8a1bc805a\" y=\"183.956195\"/>\n     <use style=\"fill:#1f77b4;stroke:#1f77b4;\" x=\"168.586464\" xlink:href=\"#mf8a1bc805a\" y=\"186.867653\"/>\n     <use style=\"fill:#1f77b4;stroke:#1f77b4;\" x=\"171.931119\" xlink:href=\"#mf8a1bc805a\" y=\"191.464693\"/>\n     <use style=\"fill:#1f77b4;stroke:#1f77b4;\" x=\"175.275774\" xlink:href=\"#mf8a1bc805a\" y=\"197.134376\"/>\n     <use style=\"fill:#1f77b4;stroke:#1f77b4;\" x=\"178.62043\" xlink:href=\"#mf8a1bc805a\" y=\"200.352304\"/>\n     <use style=\"fill:#1f77b4;stroke:#1f77b4;\" x=\"181.965085\" xlink:href=\"#mf8a1bc805a\" y=\"203.416998\"/>\n     <use style=\"fill:#1f77b4;stroke:#1f77b4;\" x=\"185.30974\" xlink:href=\"#mf8a1bc805a\" y=\"206.481691\"/>\n     <use style=\"fill:#1f77b4;stroke:#1f77b4;\" x=\"188.654396\" xlink:href=\"#mf8a1bc805a\" y=\"208.626977\"/>\n     <use style=\"fill:#1f77b4;stroke:#1f77b4;\" x=\"191.999051\" xlink:href=\"#mf8a1bc805a\" y=\"209.39315\"/>\n     <use style=\"fill:#1f77b4;stroke:#1f77b4;\" x=\"195.343706\" xlink:href=\"#mf8a1bc805a\" y=\"211.844905\"/>\n     <use style=\"fill:#1f77b4;stroke:#1f77b4;\" x=\"198.688362\" xlink:href=\"#mf8a1bc805a\" y=\"213.99019\"/>\n     <use style=\"fill:#1f77b4;stroke:#1f77b4;\" x=\"202.033017\" xlink:href=\"#mf8a1bc805a\" y=\"214.756364\"/>\n     <use style=\"fill:#1f77b4;stroke:#1f77b4;\" x=\"205.377672\" xlink:href=\"#mf8a1bc805a\" y=\"214.756364\"/>\n     <use style=\"fill:#1f77b4;stroke:#1f77b4;\" x=\"208.722328\" xlink:href=\"#mf8a1bc805a\" y=\"214.756364\"/>\n     <use style=\"fill:#1f77b4;stroke:#1f77b4;\" x=\"212.066983\" xlink:href=\"#mf8a1bc805a\" y=\"214.143425\"/>\n     <use style=\"fill:#1f77b4;stroke:#1f77b4;\" x=\"215.411638\" xlink:href=\"#mf8a1bc805a\" y=\"212.611078\"/>\n     <use style=\"fill:#1f77b4;stroke:#1f77b4;\" x=\"218.756294\" xlink:href=\"#mf8a1bc805a\" y=\"210.465793\"/>\n     <use style=\"fill:#1f77b4;stroke:#1f77b4;\" x=\"222.100949\" xlink:href=\"#mf8a1bc805a\" y=\"209.852854\"/>\n     <use style=\"fill:#1f77b4;stroke:#1f77b4;\" x=\"225.445604\" xlink:href=\"#mf8a1bc805a\" y=\"205.255814\"/>\n     <use style=\"fill:#1f77b4;stroke:#1f77b4;\" x=\"228.79026\" xlink:href=\"#mf8a1bc805a\" y=\"203.876702\"/>\n     <use style=\"fill:#1f77b4;stroke:#1f77b4;\" x=\"232.134915\" xlink:href=\"#mf8a1bc805a\" y=\"201.578182\"/>\n     <use style=\"fill:#1f77b4;stroke:#1f77b4;\" x=\"235.47957\" xlink:href=\"#mf8a1bc805a\" y=\"194.069683\"/>\n     <use style=\"fill:#1f77b4;stroke:#1f77b4;\" x=\"238.824226\" xlink:href=\"#mf8a1bc805a\" y=\"191.771163\"/>\n     <use style=\"fill:#1f77b4;stroke:#1f77b4;\" x=\"242.168881\" xlink:href=\"#mf8a1bc805a\" y=\"184.875603\"/>\n     <use style=\"fill:#1f77b4;stroke:#1f77b4;\" x=\"245.513536\" xlink:href=\"#mf8a1bc805a\" y=\"184.569133\"/>\n     <use style=\"fill:#1f77b4;stroke:#1f77b4;\" x=\"248.858192\" xlink:href=\"#mf8a1bc805a\" y=\"177.826808\"/>\n     <use style=\"fill:#1f77b4;stroke:#1f77b4;\" x=\"252.202847\" xlink:href=\"#mf8a1bc805a\" y=\"173.383002\"/>\n     <use style=\"fill:#1f77b4;stroke:#1f77b4;\" x=\"255.547502\" xlink:href=\"#mf8a1bc805a\" y=\"167.40685\"/>\n     <use style=\"fill:#1f77b4;stroke:#1f77b4;\" x=\"258.892158\" xlink:href=\"#mf8a1bc805a\" y=\"159.591882\"/>\n     <use style=\"fill:#1f77b4;stroke:#1f77b4;\" x=\"262.236813\" xlink:href=\"#mf8a1bc805a\" y=\"154.688372\"/>\n     <use style=\"fill:#1f77b4;stroke:#1f77b4;\" x=\"265.581469\" xlink:href=\"#mf8a1bc805a\" y=\"148.252516\"/>\n     <use style=\"fill:#1f77b4;stroke:#1f77b4;\" x=\"268.926124\" xlink:href=\"#mf8a1bc805a\" y=\"134.461395\"/>\n     <use style=\"fill:#1f77b4;stroke:#1f77b4;\" x=\"272.270779\" xlink:href=\"#mf8a1bc805a\" y=\"130.170825\"/>\n     <use style=\"fill:#1f77b4;stroke:#1f77b4;\" x=\"275.615435\" xlink:href=\"#mf8a1bc805a\" y=\"137.985793\"/>\n     <use style=\"fill:#1f77b4;stroke:#1f77b4;\" x=\"278.96009\" xlink:href=\"#mf8a1bc805a\" y=\"121.283214\"/>\n     <use style=\"fill:#1f77b4;stroke:#1f77b4;\" x=\"282.304745\" xlink:href=\"#mf8a1bc805a\" y=\"115.000592\"/>\n     <use style=\"fill:#1f77b4;stroke:#1f77b4;\" x=\"285.649401\" xlink:href=\"#mf8a1bc805a\" y=\"114.540888\"/>\n     <use style=\"fill:#1f77b4;stroke:#1f77b4;\" x=\"288.994056\" xlink:href=\"#mf8a1bc805a\" y=\"101.669175\"/>\n     <use style=\"fill:#1f77b4;stroke:#1f77b4;\" x=\"292.338711\" xlink:href=\"#mf8a1bc805a\" y=\"102.895053\"/>\n     <use style=\"fill:#1f77b4;stroke:#1f77b4;\" x=\"295.683367\" xlink:href=\"#mf8a1bc805a\" y=\"85.73277\"/>\n     <use style=\"fill:#1f77b4;stroke:#1f77b4;\" x=\"299.028022\" xlink:href=\"#mf8a1bc805a\" y=\"84.353658\"/>\n     <use style=\"fill:#1f77b4;stroke:#1f77b4;\" x=\"302.372677\" xlink:href=\"#mf8a1bc805a\" y=\"79.450148\"/>\n     <use style=\"fill:#1f77b4;stroke:#1f77b4;\" x=\"305.717333\" xlink:href=\"#mf8a1bc805a\" y=\"66.578436\"/>\n     <use style=\"fill:#1f77b4;stroke:#1f77b4;\" x=\"309.061988\" xlink:href=\"#mf8a1bc805a\" y=\"59.069937\"/>\n     <use style=\"fill:#1f77b4;stroke:#1f77b4;\" x=\"312.406643\" xlink:href=\"#mf8a1bc805a\" y=\"66.118732\"/>\n     <use style=\"fill:#1f77b4;stroke:#1f77b4;\" x=\"315.751299\" xlink:href=\"#mf8a1bc805a\" y=\"47.730571\"/>\n     <use style=\"fill:#1f77b4;stroke:#1f77b4;\" x=\"319.095954\" xlink:href=\"#mf8a1bc805a\" y=\"47.730571\"/>\n     <use style=\"fill:#1f77b4;stroke:#1f77b4;\" x=\"322.440609\" xlink:href=\"#mf8a1bc805a\" y=\"31.181226\"/>\n     <use style=\"fill:#1f77b4;stroke:#1f77b4;\" x=\"325.785265\" xlink:href=\"#mf8a1bc805a\" y=\"46.044989\"/>\n     <use style=\"fill:#1f77b4;stroke:#1f77b4;\" x=\"329.12992\" xlink:href=\"#mf8a1bc805a\" y=\"40.068837\"/>\n     <use style=\"fill:#1f77b4;stroke:#1f77b4;\" x=\"332.474575\" xlink:href=\"#mf8a1bc805a\" y=\"32.407104\"/>\n     <use style=\"fill:#1f77b4;stroke:#1f77b4;\" x=\"335.819231\" xlink:href=\"#mf8a1bc805a\" y=\"34.858858\"/>\n     <use style=\"fill:#1f77b4;stroke:#1f77b4;\" x=\"339.163886\" xlink:href=\"#mf8a1bc805a\" y=\"32.407104\"/>\n     <use style=\"fill:#1f77b4;stroke:#1f77b4;\" x=\"342.508541\" xlink:href=\"#mf8a1bc805a\" y=\"28.269767\"/>\n     <use style=\"fill:#1f77b4;stroke:#1f77b4;\" x=\"345.853197\" xlink:href=\"#mf8a1bc805a\" y=\"19.995095\"/>\n     <use style=\"fill:#1f77b4;stroke:#1f77b4;\" x=\"349.197852\" xlink:href=\"#mf8a1bc805a\" y=\"21.527442\"/>\n     <use style=\"fill:#1f77b4;stroke:#1f77b4;\" x=\"352.542507\" xlink:href=\"#mf8a1bc805a\" y=\"18.309514\"/>\n     <use style=\"fill:#1f77b4;stroke:#1f77b4;\" x=\"355.887163\" xlink:href=\"#mf8a1bc805a\" y=\"17.083636\"/>\n     <use style=\"fill:#1f77b4;stroke:#1f77b4;\" x=\"359.231818\" xlink:href=\"#mf8a1bc805a\" y=\"18.615983\"/>\n    </g>\n   </g>\n   <g id=\"matplotlib.axis_1\">\n    <g id=\"xtick_1\">\n     <g id=\"line2d_1\">\n      <defs>\n       <path d=\"M 0 0 \nL 0 3.5 \n\" id=\"m3df8813139\" style=\"stroke:#000000;stroke-width:0.8;\"/>\n      </defs>\n      <g>\n       <use style=\"stroke:#000000;stroke-width:0.8;\" x=\"105.038012\" xlink:href=\"#m3df8813139\" y=\"224.64\"/>\n      </g>\n     </g>\n     <g id=\"text_1\">\n      <!-- 60 -->\n      <g transform=\"translate(98.675512 239.238437)scale(0.1 -0.1)\">\n       <defs>\n        <path d=\"M 33.015625 40.375 \nQ 26.375 40.375 22.484375 35.828125 \nQ 18.609375 31.296875 18.609375 23.390625 \nQ 18.609375 15.53125 22.484375 10.953125 \nQ 26.375 6.390625 33.015625 6.390625 \nQ 39.65625 6.390625 43.53125 10.953125 \nQ 47.40625 15.53125 47.40625 23.390625 \nQ 47.40625 31.296875 43.53125 35.828125 \nQ 39.65625 40.375 33.015625 40.375 \nz\nM 52.59375 71.296875 \nL 52.59375 62.3125 \nQ 48.875 64.0625 45.09375 64.984375 \nQ 41.3125 65.921875 37.59375 65.921875 \nQ 27.828125 65.921875 22.671875 59.328125 \nQ 17.53125 52.734375 16.796875 39.40625 \nQ 19.671875 43.65625 24.015625 45.921875 \nQ 28.375 48.1875 33.59375 48.1875 \nQ 44.578125 48.1875 50.953125 41.515625 \nQ 57.328125 34.859375 57.328125 23.390625 \nQ 57.328125 12.15625 50.6875 5.359375 \nQ 44.046875 -1.421875 33.015625 -1.421875 \nQ 20.359375 -1.421875 13.671875 8.265625 \nQ 6.984375 17.96875 6.984375 36.375 \nQ 6.984375 53.65625 15.1875 63.9375 \nQ 23.390625 74.21875 37.203125 74.21875 \nQ 40.921875 74.21875 44.703125 73.484375 \nQ 48.484375 72.75 52.59375 71.296875 \nz\n\" id=\"DejaVuSans-54\"/>\n        <path d=\"M 31.78125 66.40625 \nQ 24.171875 66.40625 20.328125 58.90625 \nQ 16.5 51.421875 16.5 36.375 \nQ 16.5 21.390625 20.328125 13.890625 \nQ 24.171875 6.390625 31.78125 6.390625 \nQ 39.453125 6.390625 43.28125 13.890625 \nQ 47.125 21.390625 47.125 36.375 \nQ 47.125 51.421875 43.28125 58.90625 \nQ 39.453125 66.40625 31.78125 66.40625 \nz\nM 31.78125 74.21875 \nQ 44.046875 74.21875 50.515625 64.515625 \nQ 56.984375 54.828125 56.984375 36.375 \nQ 56.984375 17.96875 50.515625 8.265625 \nQ 44.046875 -1.421875 31.78125 -1.421875 \nQ 19.53125 -1.421875 13.0625 8.265625 \nQ 6.59375 17.96875 6.59375 36.375 \nQ 6.59375 54.828125 13.0625 64.515625 \nQ 19.53125 74.21875 31.78125 74.21875 \nz\n\" id=\"DejaVuSans-48\"/>\n       </defs>\n       <use xlink:href=\"#DejaVuSans-54\"/>\n       <use x=\"63.623047\" xlink:href=\"#DejaVuSans-48\"/>\n      </g>\n     </g>\n    </g>\n    <g id=\"xtick_2\">\n     <g id=\"line2d_2\">\n      <g>\n       <use style=\"stroke:#000000;stroke-width:0.8;\" x=\"171.931119\" xlink:href=\"#m3df8813139\" y=\"224.64\"/>\n      </g>\n     </g>\n     <g id=\"text_2\">\n      <!-- 80 -->\n      <g transform=\"translate(165.568619 239.238437)scale(0.1 -0.1)\">\n       <defs>\n        <path d=\"M 31.78125 34.625 \nQ 24.75 34.625 20.71875 30.859375 \nQ 16.703125 27.09375 16.703125 20.515625 \nQ 16.703125 13.921875 20.71875 10.15625 \nQ 24.75 6.390625 31.78125 6.390625 \nQ 38.8125 6.390625 42.859375 10.171875 \nQ 46.921875 13.96875 46.921875 20.515625 \nQ 46.921875 27.09375 42.890625 30.859375 \nQ 38.875 34.625 31.78125 34.625 \nz\nM 21.921875 38.8125 \nQ 15.578125 40.375 12.03125 44.71875 \nQ 8.5 49.078125 8.5 55.328125 \nQ 8.5 64.0625 14.71875 69.140625 \nQ 20.953125 74.21875 31.78125 74.21875 \nQ 42.671875 74.21875 48.875 69.140625 \nQ 55.078125 64.0625 55.078125 55.328125 \nQ 55.078125 49.078125 51.53125 44.71875 \nQ 48 40.375 41.703125 38.8125 \nQ 48.828125 37.15625 52.796875 32.3125 \nQ 56.78125 27.484375 56.78125 20.515625 \nQ 56.78125 9.90625 50.3125 4.234375 \nQ 43.84375 -1.421875 31.78125 -1.421875 \nQ 19.734375 -1.421875 13.25 4.234375 \nQ 6.78125 9.90625 6.78125 20.515625 \nQ 6.78125 27.484375 10.78125 32.3125 \nQ 14.796875 37.15625 21.921875 38.8125 \nz\nM 18.3125 54.390625 \nQ 18.3125 48.734375 21.84375 45.5625 \nQ 25.390625 42.390625 31.78125 42.390625 \nQ 38.140625 42.390625 41.71875 45.5625 \nQ 45.3125 48.734375 45.3125 54.390625 \nQ 45.3125 60.0625 41.71875 63.234375 \nQ 38.140625 66.40625 31.78125 66.40625 \nQ 25.390625 66.40625 21.84375 63.234375 \nQ 18.3125 60.0625 18.3125 54.390625 \nz\n\" id=\"DejaVuSans-56\"/>\n       </defs>\n       <use xlink:href=\"#DejaVuSans-56\"/>\n       <use x=\"63.623047\" xlink:href=\"#DejaVuSans-48\"/>\n      </g>\n     </g>\n    </g>\n    <g id=\"xtick_3\">\n     <g id=\"line2d_3\">\n      <g>\n       <use style=\"stroke:#000000;stroke-width:0.8;\" x=\"238.824226\" xlink:href=\"#m3df8813139\" y=\"224.64\"/>\n      </g>\n     </g>\n     <g id=\"text_3\">\n      <!-- 100 -->\n      <g transform=\"translate(229.280476 239.238437)scale(0.1 -0.1)\">\n       <defs>\n        <path d=\"M 12.40625 8.296875 \nL 28.515625 8.296875 \nL 28.515625 63.921875 \nL 10.984375 60.40625 \nL 10.984375 69.390625 \nL 28.421875 72.90625 \nL 38.28125 72.90625 \nL 38.28125 8.296875 \nL 54.390625 8.296875 \nL 54.390625 0 \nL 12.40625 0 \nz\n\" id=\"DejaVuSans-49\"/>\n       </defs>\n       <use xlink:href=\"#DejaVuSans-49\"/>\n       <use x=\"63.623047\" xlink:href=\"#DejaVuSans-48\"/>\n       <use x=\"127.246094\" xlink:href=\"#DejaVuSans-48\"/>\n      </g>\n     </g>\n    </g>\n    <g id=\"xtick_4\">\n     <g id=\"line2d_4\">\n      <g>\n       <use style=\"stroke:#000000;stroke-width:0.8;\" x=\"305.717333\" xlink:href=\"#m3df8813139\" y=\"224.64\"/>\n      </g>\n     </g>\n     <g id=\"text_4\">\n      <!-- 120 -->\n      <g transform=\"translate(296.173583 239.238437)scale(0.1 -0.1)\">\n       <defs>\n        <path d=\"M 19.1875 8.296875 \nL 53.609375 8.296875 \nL 53.609375 0 \nL 7.328125 0 \nL 7.328125 8.296875 \nQ 12.9375 14.109375 22.625 23.890625 \nQ 32.328125 33.6875 34.8125 36.53125 \nQ 39.546875 41.84375 41.421875 45.53125 \nQ 43.3125 49.21875 43.3125 52.78125 \nQ 43.3125 58.59375 39.234375 62.25 \nQ 35.15625 65.921875 28.609375 65.921875 \nQ 23.96875 65.921875 18.8125 64.3125 \nQ 13.671875 62.703125 7.8125 59.421875 \nL 7.8125 69.390625 \nQ 13.765625 71.78125 18.9375 73 \nQ 24.125 74.21875 28.421875 74.21875 \nQ 39.75 74.21875 46.484375 68.546875 \nQ 53.21875 62.890625 53.21875 53.421875 \nQ 53.21875 48.921875 51.53125 44.890625 \nQ 49.859375 40.875 45.40625 35.40625 \nQ 44.1875 33.984375 37.640625 27.21875 \nQ 31.109375 20.453125 19.1875 8.296875 \nz\n\" id=\"DejaVuSans-50\"/>\n       </defs>\n       <use xlink:href=\"#DejaVuSans-49\"/>\n       <use x=\"63.623047\" xlink:href=\"#DejaVuSans-50\"/>\n       <use x=\"127.246094\" xlink:href=\"#DejaVuSans-48\"/>\n      </g>\n     </g>\n    </g>\n    <g id=\"xtick_5\">\n     <g id=\"line2d_5\">\n      <g>\n       <use style=\"stroke:#000000;stroke-width:0.8;\" x=\"372.61044\" xlink:href=\"#m3df8813139\" y=\"224.64\"/>\n      </g>\n     </g>\n     <g id=\"text_5\">\n      <!-- 140 -->\n      <g transform=\"translate(363.06669 239.238437)scale(0.1 -0.1)\">\n       <defs>\n        <path d=\"M 37.796875 64.3125 \nL 12.890625 25.390625 \nL 37.796875 25.390625 \nz\nM 35.203125 72.90625 \nL 47.609375 72.90625 \nL 47.609375 25.390625 \nL 58.015625 25.390625 \nL 58.015625 17.1875 \nL 47.609375 17.1875 \nL 47.609375 0 \nL 37.796875 0 \nL 37.796875 17.1875 \nL 4.890625 17.1875 \nL 4.890625 26.703125 \nz\n\" id=\"DejaVuSans-52\"/>\n       </defs>\n       <use xlink:href=\"#DejaVuSans-49\"/>\n       <use x=\"63.623047\" xlink:href=\"#DejaVuSans-52\"/>\n       <use x=\"127.246094\" xlink:href=\"#DejaVuSans-48\"/>\n      </g>\n     </g>\n    </g>\n   </g>\n   <g id=\"matplotlib.axis_2\">\n    <g id=\"ytick_1\">\n     <g id=\"line2d_6\">\n      <defs>\n       <path d=\"M 0 0 \nL -3.5 0 \n\" id=\"m79f5c33788\" style=\"stroke:#000000;stroke-width:0.8;\"/>\n      </defs>\n      <g>\n       <use style=\"stroke:#000000;stroke-width:0.8;\" x=\"39.65\" xlink:href=\"#m79f5c33788\" y=\"214.756364\"/>\n      </g>\n     </g>\n     <g id=\"text_6\">\n      <!-- 0 -->\n      <g transform=\"translate(26.2875 218.555582)scale(0.1 -0.1)\">\n       <use xlink:href=\"#DejaVuSans-48\"/>\n      </g>\n     </g>\n    </g>\n    <g id=\"ytick_2\">\n     <g id=\"line2d_7\">\n      <g>\n       <use style=\"stroke:#000000;stroke-width:0.8;\" x=\"39.65\" xlink:href=\"#m79f5c33788\" y=\"184.109429\"/>\n      </g>\n     </g>\n     <g id=\"text_7\">\n      <!-- 200 -->\n      <g transform=\"translate(13.5625 187.908648)scale(0.1 -0.1)\">\n       <use xlink:href=\"#DejaVuSans-50\"/>\n       <use x=\"63.623047\" xlink:href=\"#DejaVuSans-48\"/>\n       <use x=\"127.246094\" xlink:href=\"#DejaVuSans-48\"/>\n      </g>\n     </g>\n    </g>\n    <g id=\"ytick_3\">\n     <g id=\"line2d_8\">\n      <g>\n       <use style=\"stroke:#000000;stroke-width:0.8;\" x=\"39.65\" xlink:href=\"#m79f5c33788\" y=\"153.462495\"/>\n      </g>\n     </g>\n     <g id=\"text_8\">\n      <!-- 400 -->\n      <g transform=\"translate(13.5625 157.261713)scale(0.1 -0.1)\">\n       <use xlink:href=\"#DejaVuSans-52\"/>\n       <use x=\"63.623047\" xlink:href=\"#DejaVuSans-48\"/>\n       <use x=\"127.246094\" xlink:href=\"#DejaVuSans-48\"/>\n      </g>\n     </g>\n    </g>\n    <g id=\"ytick_4\">\n     <g id=\"line2d_9\">\n      <g>\n       <use style=\"stroke:#000000;stroke-width:0.8;\" x=\"39.65\" xlink:href=\"#m79f5c33788\" y=\"122.81556\"/>\n      </g>\n     </g>\n     <g id=\"text_9\">\n      <!-- 600 -->\n      <g transform=\"translate(13.5625 126.614779)scale(0.1 -0.1)\">\n       <use xlink:href=\"#DejaVuSans-54\"/>\n       <use x=\"63.623047\" xlink:href=\"#DejaVuSans-48\"/>\n       <use x=\"127.246094\" xlink:href=\"#DejaVuSans-48\"/>\n      </g>\n     </g>\n    </g>\n    <g id=\"ytick_5\">\n     <g id=\"line2d_10\">\n      <g>\n       <use style=\"stroke:#000000;stroke-width:0.8;\" x=\"39.65\" xlink:href=\"#m79f5c33788\" y=\"92.168626\"/>\n      </g>\n     </g>\n     <g id=\"text_10\">\n      <!-- 800 -->\n      <g transform=\"translate(13.5625 95.967845)scale(0.1 -0.1)\">\n       <use xlink:href=\"#DejaVuSans-56\"/>\n       <use x=\"63.623047\" xlink:href=\"#DejaVuSans-48\"/>\n       <use x=\"127.246094\" xlink:href=\"#DejaVuSans-48\"/>\n      </g>\n     </g>\n    </g>\n    <g id=\"ytick_6\">\n     <g id=\"line2d_11\">\n      <g>\n       <use style=\"stroke:#000000;stroke-width:0.8;\" x=\"39.65\" xlink:href=\"#m79f5c33788\" y=\"61.521691\"/>\n      </g>\n     </g>\n     <g id=\"text_11\">\n      <!-- 1000 -->\n      <g transform=\"translate(7.2 65.32091)scale(0.1 -0.1)\">\n       <use xlink:href=\"#DejaVuSans-49\"/>\n       <use x=\"63.623047\" xlink:href=\"#DejaVuSans-48\"/>\n       <use x=\"127.246094\" xlink:href=\"#DejaVuSans-48\"/>\n       <use x=\"190.869141\" xlink:href=\"#DejaVuSans-48\"/>\n      </g>\n     </g>\n    </g>\n    <g id=\"ytick_7\">\n     <g id=\"line2d_12\">\n      <g>\n       <use style=\"stroke:#000000;stroke-width:0.8;\" x=\"39.65\" xlink:href=\"#m79f5c33788\" y=\"30.874757\"/>\n      </g>\n     </g>\n     <g id=\"text_12\">\n      <!-- 1200 -->\n      <g transform=\"translate(7.2 34.673976)scale(0.1 -0.1)\">\n       <use xlink:href=\"#DejaVuSans-49\"/>\n       <use x=\"63.623047\" xlink:href=\"#DejaVuSans-50\"/>\n       <use x=\"127.246094\" xlink:href=\"#DejaVuSans-48\"/>\n       <use x=\"190.869141\" xlink:href=\"#DejaVuSans-48\"/>\n      </g>\n     </g>\n    </g>\n   </g>\n   <g id=\"patch_3\">\n    <path d=\"M 39.65 224.64 \nL 39.65 7.2 \n\" style=\"fill:none;stroke:#000000;stroke-linecap:square;stroke-linejoin:miter;stroke-width:0.8;\"/>\n   </g>\n   <g id=\"patch_4\">\n    <path d=\"M 374.45 224.64 \nL 374.45 7.2 \n\" style=\"fill:none;stroke:#000000;stroke-linecap:square;stroke-linejoin:miter;stroke-width:0.8;\"/>\n   </g>\n   <g id=\"patch_5\">\n    <path d=\"M 39.65 224.64 \nL 374.45 224.64 \n\" style=\"fill:none;stroke:#000000;stroke-linecap:square;stroke-linejoin:miter;stroke-width:0.8;\"/>\n   </g>\n   <g id=\"patch_6\">\n    <path d=\"M 39.65 7.2 \nL 374.45 7.2 \n\" style=\"fill:none;stroke:#000000;stroke-linecap:square;stroke-linejoin:miter;stroke-width:0.8;\"/>\n   </g>\n  </g>\n </g>\n <defs>\n  <clipPath id=\"p5644cc77b6\">\n   <rect height=\"217.44\" width=\"334.8\" x=\"39.65\" y=\"7.2\"/>\n  </clipPath>\n </defs>\n</svg>\n",
      "image/png": "[encoded data removed]"
     },
     "metadata": {
      "needs_background": "light"
     }
    }
   ],
   "source": [
    "plt.scatter(dataframe[\"alpha\"][44:136], dataframe[\"count\"][44:136])"
   ]
  },
  {
   "cell_type": "code",
   "execution_count": 100,
   "metadata": {},
   "outputs": [
    {
     "output_type": "execute_result",
     "data": {
      "text/plain": [
       "     alpha  count\n",
       "0        1      1\n",
       "1        2     13\n",
       "2        3     11\n",
       "3        4     27\n",
       "4        5     45\n",
       "..     ...    ...\n",
       "175    176     20\n",
       "176    177     12\n",
       "177    178      5\n",
       "178    179      2\n",
       "179    180      0\n",
       "\n",
       "[180 rows x 2 columns]"
      ],
      "text/html": "<div>\n<style scoped>\n    .dataframe tbody tr th:only-of-type {\n        vertical-align: middle;\n    }\n\n    .dataframe tbody tr th {\n        vertical-align: top;\n    }\n\n    .dataframe thead th {\n        text-align: right;\n    }\n</style>\n<table border=\"1\" class=\"dataframe\">\n  <thead>\n    <tr style=\"text-align: right;\">\n      <th></th>\n      <th>alpha</th>\n      <th>count</th>\n    </tr>\n  </thead>\n  <tbody>\n    <tr>\n      <th>0</th>\n      <td>1</td>\n      <td>1</td>\n    </tr>\n    <tr>\n      <th>1</th>\n      <td>2</td>\n      <td>13</td>\n    </tr>\n    <tr>\n      <th>2</th>\n      <td>3</td>\n      <td>11</td>\n    </tr>\n    <tr>\n      <th>3</th>\n      <td>4</td>\n      <td>27</td>\n    </tr>\n    <tr>\n      <th>4</th>\n      <td>5</td>\n      <td>45</td>\n    </tr>\n    <tr>\n      <th>...</th>\n      <td>...</td>\n      <td>...</td>\n    </tr>\n    <tr>\n      <th>175</th>\n      <td>176</td>\n      <td>20</td>\n    </tr>\n    <tr>\n      <th>176</th>\n      <td>177</td>\n      <td>12</td>\n    </tr>\n    <tr>\n      <th>177</th>\n      <td>178</td>\n      <td>5</td>\n    </tr>\n    <tr>\n      <th>178</th>\n      <td>179</td>\n      <td>2</td>\n    </tr>\n    <tr>\n      <th>179</th>\n      <td>180</td>\n      <td>0</td>\n    </tr>\n  </tbody>\n</table>\n<p>180 rows × 2 columns</p>\n</div>"
     },
     "metadata": {},
     "execution_count": 100
    }
   ],
   "source": [
    "dataframe.to_csv(\"\")"
   ]
  },
  {
   "cell_type": "code",
   "execution_count": null,
   "metadata": {},
   "outputs": [],
   "source": []
  }
 ],
 "metadata": {
  "kernelspec": {
   "display_name": "Python 3",
   "language": "python",
   "name": "python3"
  },
  "language_info": {
   "codemirror_mode": {
    "name": "ipython",
    "version": 3
   },
   "file_extension": ".py",
   "mimetype": "text/x-python",
   "name": "python",
   "nbconvert_exporter": "python",
   "pygments_lexer": "ipython3",
   "version": "3.8.5-final"
  }
 },
 "nbformat": 4,
 "nbformat_minor": 2
}