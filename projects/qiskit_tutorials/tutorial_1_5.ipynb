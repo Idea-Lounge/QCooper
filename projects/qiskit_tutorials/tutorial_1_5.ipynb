{
 "metadata": {
  "language_info": {
   "codemirror_mode": {
    "name": "ipython",
    "version": 3
   },
   "file_extension": ".py",
   "mimetype": "text/x-python",
   "name": "python",
   "nbconvert_exporter": "python",
   "pygments_lexer": "ipython3",
   "version": "3.8.5-final"
  },
  "orig_nbformat": 2,
  "kernelspec": {
   "name": "Python 3.8.5 64-bit ('py385': conda)",
   "display_name": "Python 3.8.5 64-bit ('py385': conda)",
   "metadata": {
    "interpreter": {
     "hash": "9b3d8300e9bf6fadd6aa28c0ec09f1234eff4629f9d55be73fc80f5c66de2bf6"
    }
   }
  }
 },
 "nbformat": 4,
 "nbformat_minor": 2,
 "cells": [
  {
   "cell_type": "code",
   "execution_count": 1,
   "metadata": {},
   "outputs": [],
   "source": [
    "import qiskit as qs"
   ]
  },
  {
   "cell_type": "code",
   "execution_count": 2,
   "metadata": {},
   "outputs": [
    {
     "output_type": "execute_result",
     "data": {
      "text/plain": [
       "<AccountProvider for IBMQ(hub='ibm-q', group='open', project='main')>"
      ]
     },
     "metadata": {},
     "execution_count": 2
    }
   ],
   "source": [
    "qs.IBMQ.load_account()"
   ]
  },
  {
   "cell_type": "code",
   "execution_count": 3,
   "metadata": {},
   "outputs": [
    {
     "output_type": "stream",
     "name": "stdout",
     "text": [
      "{'backend_name': 'ibmq_qasm_simulator', 'backend_version': '0.1.547', 'operational': True, 'pending_jobs': 2, 'status_msg': 'active'}\n",
      "{'backend_name': 'ibmqx2', 'backend_version': '2.2.0', 'operational': True, 'pending_jobs': 30, 'status_msg': 'active'}\n",
      "{'backend_name': 'ibmq_16_melbourne', 'backend_version': '2.3.1', 'operational': True, 'pending_jobs': 21, 'status_msg': 'active'}\n",
      "{'backend_name': 'ibmq_vigo', 'backend_version': '1.3.0', 'operational': True, 'pending_jobs': 72, 'status_msg': 'active'}\n",
      "{'backend_name': 'ibmq_ourense', 'backend_version': '1.3.0', 'operational': True, 'pending_jobs': 51, 'status_msg': 'active'}\n",
      "{'backend_name': 'ibmq_valencia', 'backend_version': '1.4.0', 'operational': True, 'pending_jobs': 11, 'status_msg': 'active'}\n",
      "{'backend_name': 'ibmq_armonk', 'backend_version': '1.1.1', 'operational': True, 'pending_jobs': 10, 'status_msg': 'active'}\n",
      "{'backend_name': 'ibmq_athens', 'backend_version': '1.2.0', 'operational': True, 'pending_jobs': 14, 'status_msg': 'active'}\n",
      "{'backend_name': 'ibmq_santiago', 'backend_version': '1.1.0', 'operational': True, 'pending_jobs': 20, 'status_msg': 'active'}\n"
     ]
    }
   ],
   "source": [
    "provider = qs.IBMQ.get_provider(hub='ibm-q')\n",
    "for backend in provider.backends():\n",
    "    print(backend.status().to_dict())\n",
    "\n",
    "ibmq_16_melbourne = provider.get_backend('ibmq_16_melbourne')"
   ]
  },
  {
   "cell_type": "code",
   "execution_count": 4,
   "metadata": {},
   "outputs": [
    {
     "output_type": "stream",
     "name": "stdout",
     "text": [
      "properties:  <qiskit.providers.models.backendproperties.BackendProperties object at 0x106e76f70>\ncoupling_map:  [[0, 1], [0, 14], [1, 0], [1, 2], [1, 13], [2, 1], [2, 3], [2, 12], [3, 2], [3, 4], [3, 11], [4, 3], [4, 5], [4, 10], [5, 4], [5, 6], [5, 9], [6, 5], [6, 8], [7, 8], [8, 6], [8, 7], [8, 9], [9, 5], [9, 8], [9, 10], [10, 4], [10, 9], [10, 11], [11, 3], [11, 10], [11, 12], [12, 2], [12, 11], [12, 13], [13, 1], [13, 12], [13, 14], [14, 0], [14, 13]]\n"
     ]
    }
   ],
   "source": [
    "properties = ibmq_16_melbourne.properties()\n",
    "coupling_map = ibmq_16_melbourne.configuration().coupling_map\n",
    "print(\"properties: \", properties)\n",
    "print(\"coupling_map: \", coupling_map)\n",
    "# From this we can construct a noise model to mimic the noise on the device (we will discuss noise models further later in the textbook)."
   ]
  },
  {
   "cell_type": "code",
   "execution_count": 5,
   "metadata": {},
   "outputs": [],
   "source": [
    "ibmq_16_melbourne_noise_model = qs.providers.aer.noise.NoiseModel.from_backend(properties)\n",
    "# And then run the job on the emulator, with it reproducing all these features of the real device. Here's an example with a circuit that should output '10' in the noiseless case."
   ]
  },
  {
   "cell_type": "code",
   "execution_count": 7,
   "metadata": {},
   "outputs": [
    {
     "output_type": "execute_result",
     "data": {
      "text/plain": [
       "          ┌─┐   \n",
       "q_0: ─────┤M├───\n",
       "     ┌───┐└╥┘┌─┐\n",
       "q_1: ┤ X ├─╫─┤M├\n",
       "     └───┘ ║ └╥┘\n",
       "c: 2/══════╩══╩═\n",
       "           0  1 "
      ],
      "text/html": "<pre style=\"word-wrap: normal;white-space: pre;background: #fff0;line-height: 1.1;font-family: &quot;Courier New&quot;,Courier,monospace\">          ┌─┐   \nq_0: ─────┤M├───\n     ┌───┐└╥┘┌─┐\nq_1: ┤ X ├─╫─┤M├\n     └───┘ ║ └╥┘\nc: 2/══════╩══╩═\n           0  1 </pre>"
     },
     "metadata": {},
     "execution_count": 7
    }
   ],
   "source": [
    "q_circuit = qs.QuantumCircuit(2, 2)\n",
    "q_circuit.x(1)\n",
    "q_circuit.measure(0, 0)\n",
    "q_circuit.measure(1, 1)\n",
    "q_circuit.draw()"
   ]
  },
  {
   "cell_type": "code",
   "execution_count": 10,
   "metadata": {},
   "outputs": [],
   "source": [
    "qasm_simulator = qs.Aer.get_backend(\"qasm_simulator\")\n",
    "job_1 = qs.execute( \\\n",
    "    q_circuit, \\\n",
    "    qasm_simulator, \\\n",
    "    shots=1024, \\\n",
    "    noise_model = ibmq_16_melbourne_noise_model, \\\n",
    "    coupling_map = coupling_map, \\\n",
    "    basis_gates=ibmq_16_melbourne_noise_model.basis_gates)\n",
    "result_1 = job_1.result()"
   ]
  },
  {
   "cell_type": "code",
   "execution_count": 11,
   "metadata": {},
   "outputs": [
    {
     "output_type": "stream",
     "name": "stdout",
     "text": [
      "{'00': 60, '10': 961, '11': 3}\n"
     ]
    }
   ],
   "source": [
    "print(result_1.get_counts())"
   ]
  },
  {
   "cell_type": "code",
   "execution_count": 12,
   "metadata": {},
   "outputs": [],
   "source": [
    "qasm_simulator = qs.Aer.get_backend(\"qasm_simulator\")\n",
    "job_2 = qs.execute(q_circuit, qasm_simulator, shots=1024)\n",
    "result_2 = job_2.result()"
   ]
  },
  {
   "cell_type": "code",
   "execution_count": 13,
   "metadata": {},
   "outputs": [
    {
     "output_type": "stream",
     "name": "stdout",
     "text": [
      "{'10': 1024}\n"
     ]
    }
   ],
   "source": [
    "print(result_2.get_counts())"
   ]
  },
  {
   "cell_type": "code",
   "execution_count": null,
   "metadata": {},
   "outputs": [],
   "source": []
  }
 ]
}