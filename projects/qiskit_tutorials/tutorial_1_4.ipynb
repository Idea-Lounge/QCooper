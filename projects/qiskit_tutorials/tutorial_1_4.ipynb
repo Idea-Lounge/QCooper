{
 "metadata": {
  "language_info": {
   "codemirror_mode": {
    "name": "ipython",
    "version": 3
   },
   "file_extension": ".py",
   "mimetype": "text/x-python",
   "name": "python",
   "nbconvert_exporter": "python",
   "pygments_lexer": "ipython3",
   "version": "3.8.5-final"
  },
  "orig_nbformat": 2,
  "kernelspec": {
   "name": "Python 3.8.5 64-bit ('py385': conda)",
   "display_name": "Python 3.8.5 64-bit ('py385': conda)",
   "metadata": {
    "interpreter": {
     "hash": "9b3d8300e9bf6fadd6aa28c0ec09f1234eff4629f9d55be73fc80f5c66de2bf6"
    }
   }
  }
 },
 "nbformat": 4,
 "nbformat_minor": 2,
 "cells": [
  {
   "cell_type": "code",
   "execution_count": 1,
   "metadata": {},
   "outputs": [],
   "source": [
    "import qiskit as qs"
   ]
  },
  {
   "cell_type": "code",
   "execution_count": 2,
   "metadata": {},
   "outputs": [
    {
     "output_type": "execute_result",
     "data": {
      "text/plain": [
       "                         \n",
       "q_0: ──■─────────■───────\n",
       "     ┌─┴─┐     ┌─┴─┐     \n",
       "q_1: ┤ X ├──■──┤ X ├──■──\n",
       "     └───┘┌─┴─┐└───┘┌─┴─┐\n",
       "q_2: ─────┤ X ├─────┤ X ├\n",
       "          └───┘     └───┘"
      ],
      "text/html": "<pre style=\"word-wrap: normal;white-space: pre;background: #fff0;line-height: 1.1;font-family: &quot;Courier New&quot;,Courier,monospace\">                         \nq_0: ──■─────────■───────\n     ┌─┴─┐     ┌─┴─┐     \nq_1: ┤ X ├──■──┤ X ├──■──\n     └───┘┌─┴─┐└───┘┌─┴─┐\nq_2: ─────┤ X ├─────┤ X ├\n          └───┘     └───┘</pre>"
     },
     "metadata": {},
     "execution_count": 2
    }
   ],
   "source": [
    "q_sub_circuit = qs.QuantumCircuit(3, name=\"delayed_cx\")\n",
    "q_sub_circuit.cx(0, 1)\n",
    "q_sub_circuit.cx(1, 2)\n",
    "q_sub_circuit.cx(0, 1)\n",
    "q_sub_circuit.cx(1, 2)\n",
    "q_sub_circuit.draw()"
   ]
  },
  {
   "cell_type": "code",
   "execution_count": 3,
   "metadata": {},
   "outputs": [],
   "source": [
    "q_custom_gate = q_sub_circuit.to_instruction()"
   ]
  },
  {
   "cell_type": "code",
   "execution_count": 7,
   "metadata": {},
   "outputs": [
    {
     "output_type": "execute_result",
     "data": {
      "text/plain": [
       "                    \n",
       "q_0: ───────────────\n",
       "     ┌─────────────┐\n",
       "q_1: ┤0            ├\n",
       "     │             │\n",
       "q_2: ┤1 delayed_cx ├\n",
       "     │             │\n",
       "q_3: ┤2            ├\n",
       "     └─────────────┘"
      ],
      "text/html": "<pre style=\"word-wrap: normal;white-space: pre;background: #fff0;line-height: 1.1;font-family: &quot;Courier New&quot;,Courier,monospace\">                    \nq_0: ───────────────\n     ┌─────────────┐\nq_1: ┤0            ├\n     │             │\nq_2: ┤1 delayed_cx ├\n     │             │\nq_3: ┤2            ├\n     └─────────────┘</pre>"
     },
     "metadata": {},
     "execution_count": 7
    }
   ],
   "source": [
    "q_circuit = qs.QuantumCircuit(4)\n",
    "q_circuit.append(q_custom_gate, [1, 2, 3])\n",
    "q_circuit.draw()\n",
    "\n",
    "# q_register = qs.QuantumRegister(4, \"q_register\")\n",
    "# q_circuit = qs.QuantumCircuit(q_register)\n",
    "# q_circuit.append(q_custom_gate, [q_register[1], q_register[2], q_register[3]])\n",
    "# q_circuit.draw()"
   ]
  },
  {
   "cell_type": "code",
   "execution_count": null,
   "metadata": {},
   "outputs": [],
   "source": []
  }
 ]
}