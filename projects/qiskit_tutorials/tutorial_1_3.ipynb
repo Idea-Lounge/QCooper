{
 "metadata": {
  "language_info": {
   "codemirror_mode": {
    "name": "ipython",
    "version": 3
   },
   "file_extension": ".py",
   "mimetype": "text/x-python",
   "name": "python",
   "nbconvert_exporter": "python",
   "pygments_lexer": "ipython3",
   "version": "3.8.5-final"
  },
  "orig_nbformat": 2,
  "kernelspec": {
   "name": "Python 3.8.5 64-bit ('py385': conda)",
   "display_name": "Python 3.8.5 64-bit ('py385': conda)",
   "metadata": {
    "interpreter": {
     "hash": "9b3d8300e9bf6fadd6aa28c0ec09f1234eff4629f9d55be73fc80f5c66de2bf6"
    }
   }
  }
 },
 "nbformat": 4,
 "nbformat_minor": 2,
 "cells": [
  {
   "cell_type": "code",
   "execution_count": 1,
   "metadata": {},
   "outputs": [],
   "source": [
    "import qiskit as qs"
   ]
  },
  {
   "cell_type": "code",
   "execution_count": 2,
   "metadata": {},
   "outputs": [
    {
     "output_type": "execute_result",
     "data": {
      "text/plain": [
       "<qiskit.circuit.instructionset.InstructionSet at 0x11cd128b0>"
      ]
     },
     "metadata": {},
     "execution_count": 2
    }
   ],
   "source": [
    "q_circuit_1 = qs.QuantumCircuit(3)\n",
    "q_circuit_1.h(1)"
   ]
  },
  {
   "cell_type": "code",
   "execution_count": 3,
   "metadata": {},
   "outputs": [
    {
     "output_type": "execute_result",
     "data": {
      "text/plain": [
       "          \n",
       "q_0: ─────\n",
       "     ┌───┐\n",
       "q_1: ┤ H ├\n",
       "     └───┘\n",
       "q_2: ─────\n",
       "          "
      ],
      "text/html": "<pre style=\"word-wrap: normal;white-space: pre;background: #fff0;line-height: 1.1;font-family: &quot;Courier New&quot;,Courier,monospace\">          \nq_0: ─────\n     ┌───┐\nq_1: ┤ H ├\n     └───┘\nq_2: ─────\n          </pre>"
     },
     "metadata": {},
     "execution_count": 3
    }
   ],
   "source": [
    "q_circuit_1.draw()"
   ]
  },
  {
   "cell_type": "code",
   "execution_count": 4,
   "metadata": {},
   "outputs": [
    {
     "output_type": "execute_result",
     "data": {
      "text/plain": [
       "     ┌───┐        \n",
       "q_0: ┤ H ├──■─────\n",
       "     └───┘┌─┴─┐┌─┐\n",
       "q_1: ─────┤ X ├┤M├\n",
       "          └───┘└╥┘\n",
       "c: 1/═══════════╩═\n",
       "                0 "
      ],
      "text/html": "<pre style=\"word-wrap: normal;white-space: pre;background: #fff0;line-height: 1.1;font-family: &quot;Courier New&quot;,Courier,monospace\">     ┌───┐        \nq_0: ┤ H ├──■─────\n     └───┘┌─┴─┐┌─┐\nq_1: ─────┤ X ├┤M├\n          └───┘└╥┘\nc: 1/═══════════╩═\n                0 </pre>"
     },
     "metadata": {},
     "execution_count": 4
    }
   ],
   "source": [
    "q_circuit_2 = qs.QuantumCircuit(2, 1)\n",
    "q_circuit_2.h(0)\n",
    "q_circuit_2.cx(0, 1)\n",
    "q_circuit_2.measure(1, 0)\n",
    "q_circuit_2.draw()"
   ]
  },
  {
   "cell_type": "code",
   "execution_count": null,
   "metadata": {},
   "outputs": [],
   "source": []
  }
 ]
}