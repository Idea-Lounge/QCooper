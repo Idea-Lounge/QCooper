{
 "metadata": {
  "language_info": {
   "codemirror_mode": {
    "name": "ipython",
    "version": 3
   },
   "file_extension": ".py",
   "mimetype": "text/x-python",
   "name": "python",
   "nbconvert_exporter": "python",
   "pygments_lexer": "ipython3",
   "version": "3.8.5-final"
  },
  "orig_nbformat": 2,
  "kernelspec": {
   "name": "Python 3.8.5 64-bit ('py385': conda)",
   "display_name": "Python 3.8.5 64-bit ('py385': conda)",
   "metadata": {
    "interpreter": {
     "hash": "9b3d8300e9bf6fadd6aa28c0ec09f1234eff4629f9d55be73fc80f5c66de2bf6"
    }
   }
  }
 },
 "nbformat": 4,
 "nbformat_minor": 2,
 "cells": [
  {
   "source": [
    "# Representing Multi Qubit States\n",
    "<img src=\"resources/multi_state_representation.jpg\" alt=\"drawing\" width=\"400\"/>"
   ],
   "cell_type": "markdown",
   "metadata": {}
  },
  {
   "cell_type": "code",
   "execution_count": 1,
   "metadata": {},
   "outputs": [],
   "source": [
    "\n",
    "import qiskit as qs\n",
    "import math"
   ]
  },
  {
   "cell_type": "code",
   "execution_count": 9,
   "metadata": {},
   "outputs": [],
   "source": [
    "statevector_simulator = qs.Aer.get_backend(\"statevector_simulator\")\n",
    "qasm_simulator = qs.Aer.get_backend(\"qasm_simulator\")\n",
    "unitary_simulator = qs.Aer.get_backend(\"unitary_simulator\")"
   ]
  },
  {
   "cell_type": "code",
   "execution_count": 4,
   "metadata": {},
   "outputs": [
    {
     "output_type": "execute_result",
     "data": {
      "text/plain": [
       "     ┌─────────────────┐\n",
       "q_0: ┤ initialize(1,0) ├\n",
       "     ├─────────────────┤\n",
       "q_1: ┤ initialize(0,1) ├\n",
       "     └─────────────────┘"
      ],
      "text/html": "<pre style=\"word-wrap: normal;white-space: pre;background: #fff0;line-height: 1.1;font-family: &quot;Courier New&quot;,Courier,monospace\">     ┌─────────────────┐\nq_0: ┤ initialize(1,0) ├\n     ├─────────────────┤\nq_1: ┤ initialize(0,1) ├\n     └─────────────────┘</pre>"
     },
     "metadata": {},
     "execution_count": 4
    }
   ],
   "source": [
    "q_circuit_1 = qs.QuantumCircuit(2)\n",
    "q_circuit_1.initialize([1, 0], 0)\n",
    "q_circuit_1.initialize([0, 1], 1)\n",
    "q_circuit_1.draw()"
   ]
  },
  {
   "cell_type": "code",
   "execution_count": 5,
   "metadata": {},
   "outputs": [
    {
     "output_type": "stream",
     "name": "stdout",
     "text": [
      "Combined State Vector of 2 Qubits: [0.+0.j 0.+0.j 1.+0.j 0.+0.j]\n"
     ]
    }
   ],
   "source": [
    "result_1 = qs.execute(q_circuit_1, statevector_simulator).result()\n",
    "print(\"Combined State Vector of 2 Qubits:\", result_1.get_statevector())\n",
    "# q_1 (tensor_product) q_2"
   ]
  },
  {
   "cell_type": "code",
   "execution_count": 6,
   "metadata": {},
   "outputs": [
    {
     "output_type": "execute_result",
     "data": {
      "text/plain": [
       "     ┌───┐\n",
       "q_0: ┤ H ├\n",
       "     ├───┤\n",
       "q_1: ┤ H ├\n",
       "     ├───┤\n",
       "q_2: ┤ H ├\n",
       "     └───┘"
      ],
      "text/html": "<pre style=\"word-wrap: normal;white-space: pre;background: #fff0;line-height: 1.1;font-family: &quot;Courier New&quot;,Courier,monospace\">     ┌───┐\nq_0: ┤ H ├\n     ├───┤\nq_1: ┤ H ├\n     ├───┤\nq_2: ┤ H ├\n     └───┘</pre>"
     },
     "metadata": {},
     "execution_count": 6
    }
   ],
   "source": [
    "q_circuit_2 = qs.QuantumCircuit(3)\n",
    "q_circuit_2.h(0)\n",
    "q_circuit_2.h(1)\n",
    "q_circuit_2.h(2)\n",
    "q_circuit_2.draw()"
   ]
  },
  {
   "cell_type": "code",
   "execution_count": 7,
   "metadata": {},
   "outputs": [
    {
     "output_type": "stream",
     "name": "stdout",
     "text": [
      "Combined Statevector:  [0.35355339+0.j 0.35355339+0.j 0.35355339+0.j 0.35355339+0.j\n 0.35355339+0.j 0.35355339+0.j 0.35355339+0.j 0.35355339+0.j]\n"
     ]
    }
   ],
   "source": [
    "result_2 = qs.execute(q_circuit_2, statevector_simulator).result()\n",
    "print(\"Combined Statevector: \", result_2.get_statevector())"
   ]
  },
  {
   "source": [
    "# Multi Qubit Gate Representation\n",
    "<img src=\"resources/unitary_matrix_1.jpg\" alt=\"drawing\" width=\"300\"/>\n",
    "<img src=\"resources/unitary_matrix_2.jpg\" alt=\"drawing\" width=\"300\"/>"
   ],
   "cell_type": "markdown",
   "metadata": {}
  },
  {
   "cell_type": "code",
   "execution_count": 8,
   "metadata": {},
   "outputs": [
    {
     "output_type": "execute_result",
     "data": {
      "text/plain": [
       "     ┌───┐\n",
       "q_0: ┤ H ├\n",
       "     ├───┤\n",
       "q_1: ┤ X ├\n",
       "     └───┘"
      ],
      "text/html": "<pre style=\"word-wrap: normal;white-space: pre;background: #fff0;line-height: 1.1;font-family: &quot;Courier New&quot;,Courier,monospace\">     ┌───┐\nq_0: ┤ H ├\n     ├───┤\nq_1: ┤ X ├\n     └───┘</pre>"
     },
     "metadata": {},
     "execution_count": 8
    }
   ],
   "source": [
    "\n",
    "q_circuit_2 = qs.QuantumCircuit(2)\n",
    "q_circuit_2.h(0)\n",
    "q_circuit_2.x(1)\n",
    "q_circuit_2.draw()"
   ]
  },
  {
   "cell_type": "code",
   "execution_count": 12,
   "metadata": {},
   "outputs": [
    {
     "output_type": "stream",
     "name": "stdout",
     "text": [
      "Combined Unitary MultiQubit Gate Matrix:  [[ 0.        +0.00000000e+00j  0.        +0.00000000e+00j\n   0.70710678+0.00000000e+00j  0.70710678-8.65956056e-17j]\n [ 0.        +0.00000000e+00j  0.        +0.00000000e+00j\n   0.70710678+0.00000000e+00j -0.70710678+8.65956056e-17j]\n [ 0.70710678+0.00000000e+00j  0.70710678-8.65956056e-17j\n   0.        +0.00000000e+00j  0.        +0.00000000e+00j]\n [ 0.70710678+0.00000000e+00j -0.70710678+8.65956056e-17j\n   0.        +0.00000000e+00j  0.        +0.00000000e+00j]]\n"
     ]
    }
   ],
   "source": [
    "result_3 = qs.execute(q_circuit_2, unitary_simulator).result()\n",
    "# this is the same as X (tensor product) H\n",
    "print(\"Combined Unitary MultiQubit Gate Matrix: \", result_3.get_unitary())"
   ]
  },
  {
   "cell_type": "code",
   "execution_count": 13,
   "metadata": {},
   "outputs": [],
   "source": [
    "# If gates occur parallel to each other use tensor product\n",
    "# If gates occur sequential to one another, use matrix product\n",
    "# Full unitary matrix is created by doing this for the full circuit."
   ]
  },
  {
   "cell_type": "code",
   "execution_count": 14,
   "metadata": {},
   "outputs": [
    {
     "output_type": "execute_result",
     "data": {
      "text/plain": [
       "     ┌───┐┌───┐┌───┐\n",
       "q_0: ┤ X ├┤ H ├┤ Z ├\n",
       "     └───┘└───┘└───┘"
      ],
      "text/html": "<pre style=\"word-wrap: normal;white-space: pre;background: #fff0;line-height: 1.1;font-family: &quot;Courier New&quot;,Courier,monospace\">     ┌───┐┌───┐┌───┐\nq_0: ┤ X ├┤ H ├┤ Z ├\n     └───┘└───┘└───┘</pre>"
     },
     "metadata": {},
     "execution_count": 14
    }
   ],
   "source": [
    "q_circuit_3 = qs.QuantumCircuit(1)\n",
    "q_circuit_3.x(0)\n",
    "q_circuit_3.h(0)\n",
    "q_circuit_3.z(0)\n",
    "q_circuit_3.draw()"
   ]
  },
  {
   "cell_type": "code",
   "execution_count": 15,
   "metadata": {},
   "outputs": [
    {
     "output_type": "stream",
     "name": "stdout",
     "text": [
      "[[ 0.70710678-8.65956056e-17j  0.70710678+0.00000000e+00j]\n [ 0.70710678-8.65956056e-17j -0.70710678+0.00000000e+00j]]\n"
     ]
    }
   ],
   "source": [
    "result_4 = qs.execute(q_circuit_3, unitary_simulator).result()\n",
    "print(result_4.get_unitary())\n",
    "# this is same as performing Z * H * X Matrix multipication"
   ]
  },
  {
   "cell_type": "code",
   "execution_count": null,
   "metadata": {},
   "outputs": [],
   "source": []
  }
 ]
}