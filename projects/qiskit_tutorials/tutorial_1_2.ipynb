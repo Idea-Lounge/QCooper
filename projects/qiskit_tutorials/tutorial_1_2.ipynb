{
 "metadata": {
  "language_info": {
   "codemirror_mode": {
    "name": "ipython",
    "version": 3
   },
   "file_extension": ".py",
   "mimetype": "text/x-python",
   "name": "python",
   "nbconvert_exporter": "python",
   "pygments_lexer": "ipython3",
   "version": "3.8.5-final"
  },
  "orig_nbformat": 2,
  "kernelspec": {
   "name": "Python 3.8.5 64-bit ('py385': conda)",
   "display_name": "Python 3.8.5 64-bit ('py385': conda)",
   "metadata": {
    "interpreter": {
     "hash": "9b3d8300e9bf6fadd6aa28c0ec09f1234eff4629f9d55be73fc80f5c66de2bf6"
    }
   }
  }
 },
 "nbformat": 4,
 "nbformat_minor": 2,
 "cells": [
  {
   "cell_type": "code",
   "execution_count": 1,
   "metadata": {},
   "outputs": [],
   "source": [
    "import qiskit as qs"
   ]
  },
  {
   "cell_type": "code",
   "execution_count": 2,
   "metadata": {},
   "outputs": [],
   "source": [
    "q_register = qs.QuantumRegister(8, \"q_register\")\n",
    "c_register = qs.ClassicalRegister(8, \"c_register\")\n",
    "q_circuit_1 = qs.QuantumCircuit(q_register, c_register)"
   ]
  },
  {
   "cell_type": "code",
   "execution_count": 3,
   "metadata": {},
   "outputs": [
    {
     "output_type": "execute_result",
     "data": {
      "text/plain": [
       "                   ┌─┐                     \n",
       "q_register_0: ─────┤M├─────────────────────\n",
       "                   └╥┘┌─┐                  \n",
       "q_register_1: ──────╫─┤M├──────────────────\n",
       "                    ║ └╥┘┌─┐               \n",
       "q_register_2: ──────╫──╫─┤M├───────────────\n",
       "                    ║  ║ └╥┘┌─┐            \n",
       "q_register_3: ──────╫──╫──╫─┤M├────────────\n",
       "                    ║  ║  ║ └╥┘┌─┐         \n",
       "q_register_4: ──────╫──╫──╫──╫─┤M├─────────\n",
       "                    ║  ║  ║  ║ └╥┘┌─┐      \n",
       "q_register_5: ──────╫──╫──╫──╫──╫─┤M├──────\n",
       "                    ║  ║  ║  ║  ║ └╥┘┌─┐   \n",
       "q_register_6: ──────╫──╫──╫──╫──╫──╫─┤M├───\n",
       "              ┌───┐ ║  ║  ║  ║  ║  ║ └╥┘┌─┐\n",
       "q_register_7: ┤ X ├─╫──╫──╫──╫──╫──╫──╫─┤M├\n",
       "              └───┘ ║  ║  ║  ║  ║  ║  ║ └╥┘\n",
       "c_register: 8/══════╩══╩══╩══╩══╩══╩══╩══╩═\n",
       "                    0  1  2  3  4  5  6  7 "
      ],
      "text/html": "<pre style=\"word-wrap: normal;white-space: pre;background: #fff0;line-height: 1.1;font-family: &quot;Courier New&quot;,Courier,monospace\">                   ┌─┐                     \nq_register_0: ─────┤M├─────────────────────\n                   └╥┘┌─┐                  \nq_register_1: ──────╫─┤M├──────────────────\n                    ║ └╥┘┌─┐               \nq_register_2: ──────╫──╫─┤M├───────────────\n                    ║  ║ └╥┘┌─┐            \nq_register_3: ──────╫──╫──╫─┤M├────────────\n                    ║  ║  ║ └╥┘┌─┐         \nq_register_4: ──────╫──╫──╫──╫─┤M├─────────\n                    ║  ║  ║  ║ └╥┘┌─┐      \nq_register_5: ──────╫──╫──╫──╫──╫─┤M├──────\n                    ║  ║  ║  ║  ║ └╥┘┌─┐   \nq_register_6: ──────╫──╫──╫──╫──╫──╫─┤M├───\n              ┌───┐ ║  ║  ║  ║  ║  ║ └╥┘┌─┐\nq_register_7: ┤ X ├─╫──╫──╫──╫──╫──╫──╫─┤M├\n              └───┘ ║  ║  ║  ║  ║  ║  ║ └╥┘\nc_register: 8/══════╩══╩══╩══╩══╩══╩══╩══╩═\n                    0  1  2  3  4  5  6  7 </pre>"
     },
     "metadata": {},
     "execution_count": 3
    }
   ],
   "source": [
    "q_circuit_1.x(q_register[7])\n",
    "q_circuit_1.measure(q_register, c_register)\n",
    "q_circuit_1.draw()"
   ]
  },
  {
   "cell_type": "code",
   "execution_count": 4,
   "metadata": {},
   "outputs": [],
   "source": [
    "qasm_simulator = qs.Aer.get_backend(\"qasm_simulator\")\n",
    "job_1 = qs.execute(q_circuit_1, qasm_simulator, shots=8192)\n",
    "result_1 = job_1.result()"
   ]
  },
  {
   "cell_type": "code",
   "execution_count": 6,
   "metadata": {},
   "outputs": [
    {
     "output_type": "stream",
     "name": "stdout",
     "text": [
      "{'10000000': 8192}\n"
     ]
    }
   ],
   "source": [
    "print(result_1.get_counts()) # So the string we get in our result is the binary for  27  because it has a 1 for the bit numbered 7."
   ]
  },
  {
   "cell_type": "code",
   "execution_count": null,
   "metadata": {},
   "outputs": [],
   "source": []
  }
 ]
}